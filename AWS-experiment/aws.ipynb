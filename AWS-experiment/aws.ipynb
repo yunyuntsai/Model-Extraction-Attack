{
 "cells": [
  {
   "cell_type": "code",
   "execution_count": 1,
   "metadata": {},
   "outputs": [
    {
     "name": "stdout",
     "output_type": "stream",
     "text": [
      "{'RealtimeEndpointInfo': {'CreatedAt': datetime.datetime(2018, 10, 2, 17, 15, 45, 947000, tzinfo=tzlocal()), 'EndpointUrl': 'https://realtime.machinelearning.us-east-1.amazonaws.com', 'PeakRequestsPerSecond': 200, 'EndpointStatus': 'READY'}, 'ResponseMetadata': {'HTTPHeaders': {'content-length': '210', 'content-type': 'application/x-amz-json-1.1', 'x-amzn-requestid': 'ccb101cf-c647-11e8-ba2c-1ffc6efbed2e', 'date': 'Tue, 02 Oct 2018 13:33:51 GMT'}, 'RequestId': 'ccb101cf-c647-11e8-ba2c-1ffc6efbed2e', 'HTTPStatusCode': 200, 'RetryAttempts': 0}, 'MLModelId': 'ml-35W0oxE2vCf'}\n"
     ]
    }
   ],
   "source": [
    "import boto3\n",
    "%run models.ipynb\n",
    "import numpy as np\n",
    "\n",
    "\n",
    "s3 = boto3.resource('s3')\n",
    "client = boto3.client('machinelearning', region_name='us-east-1')\n",
    "\n",
    "model = models['aws-adult']\n",
    "model_id = model['id']\n",
    "\n",
    "\n",
    "response = client.create_realtime_endpoint(\n",
    "    MLModelId=model_id\n",
    ")\n",
    "print(response)\n"
   ]
  },
  {
   "cell_type": "code",
   "execution_count": null,
   "metadata": {},
   "outputs": [],
   "source": []
  }
 ],
 "metadata": {
  "kernelspec": {
   "display_name": "Python 3",
   "language": "python",
   "name": "python3"
  },
  "language_info": {
   "codemirror_mode": {
    "name": "ipython",
    "version": 3
   },
   "file_extension": ".py",
   "mimetype": "text/x-python",
   "name": "python",
   "nbconvert_exporter": "python",
   "pygments_lexer": "ipython3",
   "version": "3.5.2"
  }
 },
 "nbformat": 4,
 "nbformat_minor": 2
}
