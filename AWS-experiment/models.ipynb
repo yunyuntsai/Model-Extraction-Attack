{
 "cells": [
  {
   "cell_type": "code",
   "execution_count": 1,
   "metadata": {},
   "outputs": [],
   "source": [
    "models = {\n",
    "   \n",
    "    'aws-adult' :{\n",
    "        'id': 'ml-35W0oxE2vCf',\n",
    "        'classes': ['0', '1', '2', '3', '4'],\n",
    "        'data': 'ds-1m18yE6HRNz'\n",
    "    },\n",
    "     'aws-adult-new' :{\n",
    "        'id': 'ml-dqtkKJyu3sE',\n",
    "        'classes': ['Asian-Pac-Islander', 'Amer-Indian-Eskimo', 'Black', 'White', 'Other'],\n",
    "        'data': 'ds-WgQMZzlKYmu'\n",
    "    },\n",
    "\n",
    "}\n"
   ]
  },
  {
   "cell_type": "code",
   "execution_count": null,
   "metadata": {},
   "outputs": [],
   "source": []
  }
 ],
 "metadata": {
  "kernelspec": {
   "display_name": "Python 3",
   "language": "python",
   "name": "python3"
  },
  "language_info": {
   "codemirror_mode": {
    "name": "ipython",
    "version": 3
   },
   "file_extension": ".py",
   "mimetype": "text/x-python",
   "name": "python",
   "nbconvert_exporter": "python",
   "pygments_lexer": "ipython3",
   "version": "3.5.2"
  }
 },
 "nbformat": 4,
 "nbformat_minor": 2
}
