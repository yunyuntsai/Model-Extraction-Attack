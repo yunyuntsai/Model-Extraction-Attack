{
 "cells": [
  {
   "cell_type": "code",
   "execution_count": 1,
   "metadata": {},
   "outputs": [
    {
     "name": "stderr",
     "output_type": "stream",
     "text": [
      "/home/alice850311/.local/lib/python3.5/site-packages/sklearn/cross_validation.py:41: DeprecationWarning: This module was deprecated in version 0.18 in favor of the model_selection module into which all the refactored classes and functions are moved. Also note that the interface of the new CV iterators are different from that of this module. This module will be removed in 0.20.\n",
      "  \"This module will be removed in 0.20.\", DeprecationWarning)\n"
     ]
    }
   ],
   "source": [
    "import numpy as np\n",
    "import pandas as pd\n",
    "from sklearn.preprocessing import MinMaxScaler\n",
    "from sklearn.cross_validation import train_test_split\n",
    "    \n",
    "def prepare_data(name, onehot=True, labelEncode=True):\n",
    "    if name == \"adult\":\n",
    "        X, y = prepare_adult(target='income', onehot=onehot)\n",
    "    \n",
    "\n",
    "            \n",
    "    X_train, X_test, y_train, y_test = train_test_split(X, y, train_size=0.7)\n",
    "    #X_train, y_train = X, y\n",
    "    #X_test, y_test = X.copy(), y.copy()\n",
    "\n",
    "    return X_train, y_train, X_test, y_test\n",
    "\n",
    "def prepare_adult(target='income', onehot=True):\n",
    "    data = pd.read_csv('data/adult.csv', sep=r'\\s*,\\s*', engine='python')\n",
    "\n",
    "    cols = list(data.columns.values)\n",
    "    print(cols)\n",
    "    cols.remove('income')\n",
    "\n",
    "    X = data[cols]\n",
    "    y = data['income']\n",
    "    \n",
    "    scaler = MinMaxScaler(feature_range=(-1, 1))\n",
    "    for i in range(X.shape[1]):\n",
    "        try:\n",
    "            X.values[:, i] = scaler.fit_transform(X.values[:, i])\n",
    "        except ValueError:\n",
    "            pass\n",
    "        \n",
    "    yy = []\n",
    "    for i in range(y.shape[0]):\n",
    "        a = y[i]\n",
    "        if a.strip().startswith('<'):\n",
    "            yy.append(0)\n",
    "        else:\n",
    "            yy.append(1)\n",
    "    if onehot:\n",
    "        X = pd.get_dummies(X)\n",
    "\n",
    "    return X, np.array(yy)\n",
    "\n"
   ]
  },
  {
   "cell_type": "code",
   "execution_count": 22,
   "metadata": {
    "scrolled": false
   },
   "outputs": [
    {
     "name": "stdout",
     "output_type": "stream",
     "text": [
      "Target Classes:  [4 2 1 3 0]\n",
      "Features:  [  0   1   2   3   4   5   6   7   8   9  10  11  12  13  14  15  16  17\n",
      "  18  19  20  21  22  23  24  25  26  27  28  29  30  31  32  33  34  35\n",
      "  36  37  38  39  40  41  42  43  44  45  46  47  48  49  50  51  52  53\n",
      "  54  55  56  57  58  59  60  61  62  63  64  65  66  67  68  69  70  71\n",
      "  72  73  74  75  76  77  78  79  80  81  82  83  84  85  86  87  88  89\n",
      "  90  91  92  93  94  95  96  97  98  99 100 101 102 103 104]\n",
      "training accuracy:  0.8766635272920846\n",
      "Counter({4: 47264, 1: 1026, 2: 548, 3: 4})\n",
      "Target Classes : 5 | num features : 105 | num unknown　: 530 \n",
      "Generate query set......\n",
      "Scale_type:  uniform\n",
      "query set size:  (100000, 105)\n",
      "passize budget :  265\n",
      "Scale_type:  uniform\n",
      "Gen-Query Prop Size:  (265, 5)\n",
      "w0.shape (5, 106)\n",
      "finding solution of system of 265 equations with 530 unknowns with BFGS\n",
      "optimize logit BFGS\n",
      "Warning: Maximum number of iterations has been exceeded.\n",
      "         Current function value: 198.234743\n",
      "         Iterations: 100\n",
      "         Function evaluations: 102\n",
      "         Gradient evaluations: 102\n",
      "obtained train accuracy of 1.0\n",
      "opti ran for 1.24 s\n",
      "Scale_type:  uniform\n",
      "acc: 1.00e+00, 7.21e-01\n",
      "Gen-Query Prop Size:  (48842, 5)\n",
      "l1: 4.03e-07,9.84e-01\n"
     ]
    },
    {
     "name": "stderr",
     "output_type": "stream",
     "text": [
      "/home/alice850311/.local/lib/python3.5/site-packages/ipykernel_launcher.py:543: FutureWarning: Method .as_matrix will be removed in a future version. Use .values instead.\n"
     ]
    },
    {
     "name": "stdout",
     "output_type": "stream",
     "text": [
      "Gen-Query Prop Size:  (100000, 5)\n",
      "adult,passive,265,extr,0.00e+00,0.00e+00,4.03e-07,2.91e-07,2.39e-01\n",
      "adult,passive,265,base,2.79e-01,3.61e-01,9.84e-01,8.47e-01,1.60e+03\n",
      "passize budget :  530\n",
      "Scale_type:  uniform\n",
      "Gen-Query Prop Size:  (530, 5)\n",
      "w0.shape (5, 106)\n",
      "finding solution of system of 530 equations with 530 unknowns with BFGS\n",
      "optimize logit BFGS\n",
      "Warning: Maximum number of iterations has been exceeded.\n",
      "         Current function value: 377.259200\n",
      "         Iterations: 100\n",
      "         Function evaluations: 106\n",
      "         Gradient evaluations: 106\n",
      "obtained train accuracy of 1.0\n",
      "opti ran for 1.21 s\n",
      "Scale_type:  uniform\n",
      "acc: 1.00e+00, 9.89e-01\n",
      "Gen-Query Prop Size:  (48842, 5)\n",
      "l1: 3.05e-07,9.90e-01\n"
     ]
    },
    {
     "name": "stderr",
     "output_type": "stream",
     "text": [
      "/home/alice850311/.local/lib/python3.5/site-packages/ipykernel_launcher.py:543: FutureWarning: Method .as_matrix will be removed in a future version. Use .values instead.\n"
     ]
    },
    {
     "name": "stdout",
     "output_type": "stream",
     "text": [
      "Gen-Query Prop Size:  (100000, 5)\n",
      "adult,passive,530,extr,0.00e+00,0.00e+00,3.05e-07,3.81e-07,2.39e-01\n",
      "adult,passive,530,base,1.12e-02,2.50e-01,9.90e-01,8.71e-01,2.92e+03\n",
      "passize budget :  1060\n",
      "Scale_type:  uniform\n",
      "Gen-Query Prop Size:  (1060, 5)\n",
      "w0.shape (5, 106)\n",
      "finding solution of system of 1060 equations with 530 unknowns with BFGS\n",
      "optimize logit BFGS\n",
      "Warning: Maximum number of iterations has been exceeded.\n",
      "         Current function value: 784.046434\n",
      "         Iterations: 100\n",
      "         Function evaluations: 124\n",
      "         Gradient evaluations: 124\n",
      "obtained train accuracy of 1.0\n",
      "opti ran for 1.28 s\n",
      "Scale_type:  uniform\n",
      "acc: 1.00e+00, 9.92e-01\n",
      "Gen-Query Prop Size:  (48842, 5)\n",
      "l1: 4.62e-06,9.90e-01\n"
     ]
    },
    {
     "name": "stderr",
     "output_type": "stream",
     "text": [
      "/home/alice850311/.local/lib/python3.5/site-packages/ipykernel_launcher.py:543: FutureWarning: Method .as_matrix will be removed in a future version. Use .values instead.\n"
     ]
    },
    {
     "name": "stdout",
     "output_type": "stream",
     "text": [
      "Gen-Query Prop Size:  (100000, 5)\n",
      "adult,passive,1060,extr,0.00e+00,0.00e+00,4.62e-06,6.25e-06,2.42e-01\n",
      "adult,passive,1060,base,8.35e-03,1.61e-01,9.90e-01,8.79e-01,5.14e+03\n",
      "passize budget :  2650\n",
      "Scale_type:  uniform\n",
      "Gen-Query Prop Size:  (2650, 5)\n",
      "w0.shape (5, 106)\n",
      "finding solution of system of 2650 equations with 530 unknowns with BFGS\n",
      "optimize logit BFGS\n",
      "Warning: Maximum number of iterations has been exceeded.\n",
      "         Current function value: 1977.192230\n",
      "         Iterations: 100\n",
      "         Function evaluations: 134\n",
      "         Gradient evaluations: 134\n",
      "obtained train accuracy of 0.9981132075471698\n",
      "opti ran for 1.67 s\n",
      "Scale_type:  uniform\n",
      "acc: 1.00e+00, 9.90e-01\n",
      "Gen-Query Prop Size:  (48842, 5)\n",
      "l1: 2.37e-04,9.89e-01\n"
     ]
    },
    {
     "name": "stderr",
     "output_type": "stream",
     "text": [
      "/home/alice850311/.local/lib/python3.5/site-packages/ipykernel_launcher.py:543: FutureWarning: Method .as_matrix will be removed in a future version. Use .values instead.\n"
     ]
    },
    {
     "name": "stdout",
     "output_type": "stream",
     "text": [
      "Gen-Query Prop Size:  (100000, 5)\n",
      "adult,passive,2650,extr,1.23e-04,4.50e-04,2.37e-04,3.60e-04,4.02e-01\n",
      "adult,passive,2650,base,9.81e-03,7.57e-02,9.89e-01,8.84e-01,1.24e+04\n",
      "passize budget :  5300\n",
      "Scale_type:  uniform\n",
      "Gen-Query Prop Size:  (5300, 5)\n",
      "w0.shape (5, 106)\n",
      "finding solution of system of 5300 equations with 530 unknowns with BFGS\n",
      "optimize logit BFGS\n",
      "Warning: Maximum number of iterations has been exceeded.\n",
      "         Current function value: 4036.885706\n",
      "         Iterations: 100\n",
      "         Function evaluations: 148\n",
      "         Gradient evaluations: 148\n",
      "obtained train accuracy of 0.999811320754717\n",
      "opti ran for 2.35 s\n",
      "Scale_type:  uniform\n",
      "acc: 1.00e+00, 9.92e-01\n",
      "Gen-Query Prop Size:  (48842, 5)\n",
      "l1: 2.21e-04,9.90e-01\n",
      "Gen-Query Prop Size:  (100000, 5)\n"
     ]
    },
    {
     "name": "stderr",
     "output_type": "stream",
     "text": [
      "/home/alice850311/.local/lib/python3.5/site-packages/ipykernel_launcher.py:543: FutureWarning: Method .as_matrix will be removed in a future version. Use .values instead.\n"
     ]
    },
    {
     "name": "stdout",
     "output_type": "stream",
     "text": [
      "adult,passive,5300,extr,1.02e-04,2.30e-04,2.21e-04,1.79e-04,3.31e-01\n",
      "adult,passive,5300,base,8.29e-03,4.03e-02,9.90e-01,8.86e-01,2.43e+04\n",
      "passize budget :  10600\n",
      "Scale_type:  uniform\n",
      "Gen-Query Prop Size:  (10600, 5)\n",
      "w0.shape (5, 106)\n",
      "finding solution of system of 10600 equations with 530 unknowns with BFGS\n",
      "optimize logit BFGS\n",
      "Warning: Maximum number of iterations has been exceeded.\n",
      "         Current function value: 8001.596390\n",
      "         Iterations: 100\n",
      "         Function evaluations: 155\n",
      "         Gradient evaluations: 155\n",
      "obtained train accuracy of 0.9986792452830189\n",
      "opti ran for 3.97 s\n",
      "Scale_type:  uniform\n",
      "acc: 1.00e+00, 9.97e-01\n",
      "Gen-Query Prop Size:  (48842, 5)\n",
      "l1: 8.68e-04,9.90e-01\n",
      "Gen-Query Prop Size:  (100000, 5)\n",
      "adult,passive,10600,extr,6.14e-05,9.50e-04,8.68e-04,1.00e-03,7.45e-01\n",
      "adult,passive,10600,base,2.78e-03,2.07e-02,9.90e-01,8.87e-01,4.65e+04\n",
      "passize budget :  26500\n",
      "Scale_type:  uniform\n"
     ]
    },
    {
     "name": "stderr",
     "output_type": "stream",
     "text": [
      "/home/alice850311/.local/lib/python3.5/site-packages/ipykernel_launcher.py:543: FutureWarning: Method .as_matrix will be removed in a future version. Use .values instead.\n"
     ]
    },
    {
     "name": "stdout",
     "output_type": "stream",
     "text": [
      "Gen-Query Prop Size:  (26500, 5)\n",
      "w0.shape (5, 106)\n",
      "finding solution of system of 26500 equations with 530 unknowns with BFGS\n",
      "optimize logit BFGS\n",
      "Warning: Maximum number of iterations has been exceeded.\n",
      "         Current function value: 19994.152046\n",
      "         Iterations: 100\n",
      "         Function evaluations: 168\n",
      "         Gradient evaluations: 168\n",
      "obtained train accuracy of 0.9987924528301887\n",
      "opti ran for 6.72 s\n",
      "Scale_type:  uniform\n",
      "acc: 1.00e+00, 9.99e-01\n",
      "Gen-Query Prop Size:  (48842, 5)\n",
      "l1: 1.05e-03,9.90e-01\n",
      "Gen-Query Prop Size:  (100000, 5)\n"
     ]
    },
    {
     "name": "stderr",
     "output_type": "stream",
     "text": [
      "/home/alice850311/.local/lib/python3.5/site-packages/ipykernel_launcher.py:543: FutureWarning: Method .as_matrix will be removed in a future version. Use .values instead.\n"
     ]
    },
    {
     "name": "stdout",
     "output_type": "stream",
     "text": [
      "adult,passive,26500,extr,1.02e-04,1.07e-03,1.05e-03,9.13e-04,6.65e-01\n",
      "adult,passive,26500,base,1.21e-03,8.47e-03,9.90e-01,8.87e-01,1.29e+05\n",
      "passize budget :  53000\n",
      "Scale_type:  uniform\n",
      "Gen-Query Prop Size:  (53000, 5)\n",
      "w0.shape (5, 106)\n",
      "finding solution of system of 53000 equations with 530 unknowns with BFGS\n",
      "optimize logit BFGS\n",
      "Warning: Maximum number of iterations has been exceeded.\n",
      "         Current function value: 40026.163091\n",
      "         Iterations: 100\n",
      "         Function evaluations: 169\n",
      "         Gradient evaluations: 169\n",
      "obtained train accuracy of 0.9965471698113207\n",
      "opti ran for 10.93 s\n",
      "Scale_type:  uniform\n",
      "acc: 1.00e+00, 1.00e+00\n",
      "Gen-Query Prop Size:  (48842, 5)\n",
      "l1: 2.91e-03,9.90e-01\n",
      "Gen-Query Prop Size:  (100000, 5)\n",
      "adult,passive,53000,extr,2.05e-04,3.52e-03,2.91e-03,3.15e-03,1.81e+00\n",
      "adult,passive,53000,base,2.05e-04,4.75e-03,9.90e-01,8.87e-01,3.40e+05\n"
     ]
    },
    {
     "name": "stderr",
     "output_type": "stream",
     "text": [
      "/home/alice850311/.local/lib/python3.5/site-packages/ipykernel_launcher.py:543: FutureWarning: Method .as_matrix will be removed in a future version. Use .values instead.\n"
     ]
    }
   ],
   "source": [
    "\n",
    "from sklearn.linear_model import LogisticRegression\n",
    "from collections import Counter\n",
    "import argparse\n",
    "import sys\n",
    "import matplotlib.pyplot as plt\n",
    "%run regression_stealer.ipynb\n",
    "%run utils.ipynb\n",
    "\n",
    "\n",
    "\n",
    "class LocalRegressionExtractor(RegressionExtractor):\n",
    "\n",
    "    \"\"\"\n",
    "    Local logistic regression using the implementation in scikit\n",
    "    \n",
    "    \"\"\"\n",
    "\n",
    "    def __init__(self, X, y, multinomial, rounding=None):\n",
    "        self.classes = y.unique()\n",
    "        self.features = X.columns.values\n",
    "        self.rounding = rounding\n",
    "\n",
    "        # train a model on the whole dataset\n",
    "        if multinomial:\n",
    "            self.model = LogisticRegression(multi_class=\"multinomial\",\n",
    "                                            solver='lbfgs')\n",
    "        else:\n",
    "            self.model = LogisticRegression(multi_class=\"ovr\")\n",
    "        self.model.fit(X, y)\n",
    "\n",
    "        self.w = self.model.coef_\n",
    "        self.intercept = self.model.intercept_\n",
    "        self.multinomial = multinomial\n",
    "\n",
    "        RegressionExtractor.__init__(self)\n",
    "\n",
    "    def num_features(self):\n",
    "        return len(self.features)\n",
    "\n",
    "    def get_classes(self):\n",
    "        return self.classes\n",
    "\n",
    "    def query_probas(self, X):\n",
    "        #\n",
    "        # There seems to be a bug in the LogisticRegression class, that makes\n",
    "        # it use the OvR strategy to compute probabilities even when we set\n",
    "        # 'multi_class = multinomial'. So we call the predict_probas method\n",
    "        # ourselves.\n",
    "        #\n",
    "        p = predict_probas(X, self.w, self.intercept,\n",
    "                           multinomial=(self.model.multi_class == \"multinomial\")\n",
    "                           )\n",
    "        print(\"Gen-Query Prop Size: \",p.shape)\n",
    "        #print(\"Query Prop:\", p)\n",
    "        if self.rounding is None:\n",
    "            return p\n",
    "        else:\n",
    "            p = np.round(p, self.rounding)\n",
    "            return p / np.sum(p, axis=1)[:, np.newaxis]\n",
    "\n",
    "    def query(self, X):\n",
    "        return predict_classes(X, self.w, self.intercept, self.classes)\n",
    "    \n",
    "\n",
    "\n",
    "def main():\n",
    "    \n",
    "    X_train, y_train, X_test, y_test, _ = prepare_data(\"adult\")\n",
    "    \n",
    "    #lr=LogisticRegression(multi_class=\"multinomial\", solver='lbfgs')\n",
    "    ext = LocalRegressionExtractor(X_train, y_train,\n",
    "                                multinomial= \"multinomial\",\n",
    "                                   rounding= None)\n",
    "    print(\"Target Classes: \", ext.classes)\n",
    "    \n",
    "    print(\"Features: \", ext.features)\n",
    "    \n",
    "    y_pred = ext.model.predict(X_test)\n",
    "    \n",
    "    print ('training accuracy: ',format(accuracy_score(y_test, y_pred)))\n",
    "    \n",
    "    print (Counter(y_pred))\n",
    "    \n",
    "    ext.run(\"adult\", X_test, random_seed=0,\n",
    "            #alphas=[1],\n",
    "            methods=['passive'], baseline=True\n",
    "            )\n",
    "\n",
    "   \n",
    "    #ext = LocalRegressionExtractor(X_train, y_train,multinomial=\"multinomial\",rounding=None)\n",
    "    #y_pred = ext.model.predict(X_test)\n",
    "    #print ('training accuracy: {}',format(accuracy_score(y_test, y_pred)))\n",
    "    #print (Counter(y_pred))\n",
    "    \n",
    "if __name__ == \"__main__\":\n",
    "    main()"
   ]
  },
  {
   "cell_type": "code",
   "execution_count": 20,
   "metadata": {},
   "outputs": [],
   "source": [
    "%run regression_stealer.ipynb  "
   ]
  },
  {
   "cell_type": "code",
   "execution_count": 27,
   "metadata": {},
   "outputs": [],
   "source": [
    "%run utils.ipynb\n"
   ]
  },
  {
   "cell_type": "code",
   "execution_count": null,
   "metadata": {},
   "outputs": [],
   "source": []
  }
 ],
 "metadata": {
  "kernelspec": {
   "display_name": "Python 3",
   "language": "python",
   "name": "python3"
  },
  "language_info": {
   "codemirror_mode": {
    "name": "ipython",
    "version": 3
   },
   "file_extension": ".py",
   "mimetype": "text/x-python",
   "name": "python",
   "nbconvert_exporter": "python",
   "pygments_lexer": "ipython3",
   "version": "3.5.2"
  }
 },
 "nbformat": 4,
 "nbformat_minor": 2
}
